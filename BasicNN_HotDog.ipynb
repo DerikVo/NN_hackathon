{
  "nbformat": 4,
  "nbformat_minor": 0,
  "metadata": {
    "colab": {
      "provenance": [],
      "gpuType": "T4"
    },
    "kernelspec": {
      "name": "python3",
      "display_name": "Python 3"
    },
    "language_info": {
      "name": "python"
    },
    "accelerator": "GPU",
    "gpuClass": "standard"
  },
  "cells": [
    {
      "cell_type": "code",
      "execution_count": 43,
      "metadata": {
        "id": "d8Kympj05b5r"
      },
      "outputs": [],
      "source": [
        "from tensorflow.keras.metrics import binary_accuracy, AUC, Precision, Recall\n",
        "#Imports\n",
        "import matplotlib.pyplot as plt\n",
        "from math import ceil\n",
        "\n",
        "import os\n",
        "import pandas as pd\n",
        "import numpy as np \n",
        "from tensorflow.keras.layers.experimental import preprocessing\n",
        "from tensorflow.keras.preprocessing.image import img_to_array, load_img\n",
        "from tensorflow.keras.preprocessing import image_dataset_from_directory\n",
        "from keras.preprocessing.image import ImageDataGenerator\n",
        "\n",
        "from tensorflow.keras.layers import Dense, Dropout, Flatten, Conv2D, MaxPooling2D\n",
        "from tensorflow.keras.models import Sequential\n",
        "from tensorflow.keras.preprocessing import image_dataset_from_directory\n",
        "from tensorflow.keras import layers\n",
        "\n",
        "from sklearn.metrics import accuracy_score\n",
        "\n",
        "\n",
        "from sklearn.decomposition import PCA"
      ]
    },
    {
      "cell_type": "code",
      "source": [
        "np.random.seed(1)\n",
        "from tensorflow.keras.utils import set_random_seed\n",
        "set_random_seed(1)"
      ],
      "metadata": {
        "id": "iWqFAfwX5lmW"
      },
      "execution_count": null,
      "outputs": []
    },
    {
      "cell_type": "code",
      "source": [
        "from google.colab import drive\n",
        "drive.mount('/content/drive')"
      ],
      "metadata": {
        "colab": {
          "base_uri": "https://localhost:8080/"
        },
        "id": "Y5SEBD9-5oUJ",
        "outputId": "b9adb6de-c4c9-443a-cf2b-75391953444f"
      },
      "execution_count": null,
      "outputs": [
        {
          "output_type": "stream",
          "name": "stdout",
          "text": [
            "Drive already mounted at /content/drive; to attempt to forcibly remount, call drive.mount(\"/content/drive\", force_remount=True).\n"
          ]
        }
      ]
    },
    {
      "cell_type": "code",
      "source": [
        "!ls /content/drive/MyDrive/HackAthon"
      ],
      "metadata": {
        "colab": {
          "base_uri": "https://localhost:8080/"
        },
        "id": "-GOAWqYj6t2H",
        "outputId": "cab26951-9ad6-4410-8c08-7192ededd5f0"
      },
      "execution_count": null,
      "outputs": [
        {
          "output_type": "stream",
          "name": "stdout",
          "text": [
            "ls: cannot access '/content/drive/MyDrive/HackAthon': No such file or directory\n"
          ]
        }
      ]
    },
    {
      "cell_type": "code",
      "source": [
        "unzip_path = f'/content/drive/MyDrive/hotdog-nothotdog.zip'\n",
        "!unzip -q \"$unzip_path\""
      ],
      "metadata": {
        "id": "0_xHk-OA6sHv",
        "colab": {
          "base_uri": "https://localhost:8080/"
        },
        "outputId": "10323ce6-d9c3-488d-b8d5-405fc1bbc05c"
      },
      "execution_count": null,
      "outputs": [
        {
          "output_type": "stream",
          "name": "stdout",
          "text": [
            "replace test/hotdog/1501.jpg? [y]es, [n]o, [A]ll, [N]one, [r]ename: N\n"
          ]
        }
      ]
    },
    {
      "cell_type": "code",
      "source": [
        "datagen = ImageDataGenerator(validation_split=0.2)\n",
        "\n",
        "# get training data\n",
        "train_ds = datagen.flow_from_directory(\n",
        "    '/content/train',\n",
        "    target_size=(256, 256),\n",
        "    batch_size=32,\n",
        "    class_mode='binary',\n",
        "    subset='training',  # set as training data\n",
        "    seed=42\n",
        ")\n",
        "\n",
        "\n",
        "# get validation data\n",
        "val_ds = datagen.flow_from_directory(\n",
        "    '/content/train',\n",
        "    target_size=(256, 256),\n",
        "    batch_size=32,\n",
        "    class_mode='binary',\n",
        "    subset='validation',  # set as validation data\n",
        "    seed=42,\n",
        "    shuffle=False\n",
        ")\n",
        "\n",
        "\n",
        "# get test data\n",
        "test_ds = datagen.flow_from_directory(\n",
        "    '/content/test',\n",
        "    target_size=(256, 256),\n",
        "    class_mode='binary',\n",
        "    seed=42\n",
        ")"
      ],
      "metadata": {
        "colab": {
          "base_uri": "https://localhost:8080/"
        },
        "id": "sJ5u5CHlCbt-",
        "outputId": "cb395128-d29d-4a7b-c681-6825d9aae60d"
      },
      "execution_count": 60,
      "outputs": [
        {
          "output_type": "stream",
          "name": "stdout",
          "text": [
            "Found 2400 images belonging to 2 classes.\n",
            "Found 600 images belonging to 2 classes.\n",
            "Found 644 images belonging to 2 classes.\n"
          ]
        }
      ]
    },
    {
      "cell_type": "code",
      "source": [
        "#Basic Model\n",
        "model = Sequential()\n",
        "\n",
        "model.add(layers.Input(shape=(256, 256, 3)))\n",
        "model.add(layers.Rescaling(1./255))\n",
        "\n",
        "# Convolutional and pooling layer\n",
        "model.add(Conv2D(32, (3, 3), activation='relu'))\n",
        "model.add(MaxPooling2D(pool_size=(2, 2)))\n",
        "model.add(Dropout(0.25))  # Adding dropout\n",
        "\n",
        "# Add another\n",
        "model.add(Conv2D(64, (3, 3), activation='relu'))\n",
        "model.add(MaxPooling2D(pool_size=(2, 2)))\n",
        "model.add(Dropout(0.25))  # Adding dropout\n",
        "\n",
        "model.add(Flatten())\n",
        "model.add(Dense(64, activation='relu'))\n",
        "model.add(Dropout(0.5))  # Adding dropout\n",
        "\n",
        "# Output\n",
        "model.add(Dense(1, activation='sigmoid'))\n"
      ],
      "metadata": {
        "id": "sy-RjdCGEJm6"
      },
      "execution_count": 61,
      "outputs": []
    },
    {
      "cell_type": "code",
      "source": [
        "from tensorflow.keras.metrics import binary_accuracy, AUC, Precision, Recall"
      ],
      "metadata": {
        "id": "vS_o4w96yyb_"
      },
      "execution_count": 78,
      "outputs": []
    },
    {
      "cell_type": "code",
      "source": [
        "standard_metrics = [\n",
        "    'binary_accuracy', \n",
        "    'AUC', \n",
        "    'Precision', \n",
        "    'Recall'\n",
        "]"
      ],
      "metadata": {
        "id": "609rLKtOkfMW"
      },
      "execution_count": 79,
      "outputs": []
    },
    {
      "cell_type": "code",
      "source": [
        "model.compile(\n",
        "    optimizer=\"adam\",\n",
        "    loss=\"bce\",\n",
        "    metrics=standard_metrics\n",
        ")"
      ],
      "metadata": {
        "id": "1tQ02pL-LNgc"
      },
      "execution_count": 80,
      "outputs": []
    },
    {
      "cell_type": "code",
      "source": [
        "model.summary()"
      ],
      "metadata": {
        "colab": {
          "base_uri": "https://localhost:8080/"
        },
        "id": "CE5pnnQ4RiNy",
        "outputId": "f25573e0-c3d3-4ce3-aa62-e24ec9536413"
      },
      "execution_count": 81,
      "outputs": [
        {
          "output_type": "stream",
          "name": "stdout",
          "text": [
            "Model: \"sequential_2\"\n",
            "_________________________________________________________________\n",
            " Layer (type)                Output Shape              Param #   \n",
            "=================================================================\n",
            " rescaling_2 (Rescaling)     (None, 256, 256, 3)       0         \n",
            "                                                                 \n",
            " conv2d_4 (Conv2D)           (None, 254, 254, 32)      896       \n",
            "                                                                 \n",
            " max_pooling2d_4 (MaxPooling  (None, 127, 127, 32)     0         \n",
            " 2D)                                                             \n",
            "                                                                 \n",
            " dropout_6 (Dropout)         (None, 127, 127, 32)      0         \n",
            "                                                                 \n",
            " conv2d_5 (Conv2D)           (None, 125, 125, 64)      18496     \n",
            "                                                                 \n",
            " max_pooling2d_5 (MaxPooling  (None, 62, 62, 64)       0         \n",
            " 2D)                                                             \n",
            "                                                                 \n",
            " dropout_7 (Dropout)         (None, 62, 62, 64)        0         \n",
            "                                                                 \n",
            " flatten_2 (Flatten)         (None, 246016)            0         \n",
            "                                                                 \n",
            " dense_4 (Dense)             (None, 64)                15745088  \n",
            "                                                                 \n",
            " dropout_8 (Dropout)         (None, 64)                0         \n",
            "                                                                 \n",
            " dense_5 (Dense)             (None, 1)                 65        \n",
            "                                                                 \n",
            "=================================================================\n",
            "Total params: 15,764,545\n",
            "Trainable params: 15,764,545\n",
            "Non-trainable params: 0\n",
            "_________________________________________________________________\n"
          ]
        }
      ]
    },
    {
      "cell_type": "code",
      "source": [
        "fit= model.fit(\n",
        "    train_ds,\n",
        "    validation_data=val_ds,\n",
        "    epochs=10\n",
        ")"
      ],
      "metadata": {
        "colab": {
          "base_uri": "https://localhost:8080/"
        },
        "id": "MirbqbVaRqc-",
        "outputId": "3c426813-3a82-4fdd-c71a-fa9fbbd91898"
      },
      "execution_count": 82,
      "outputs": [
        {
          "output_type": "stream",
          "name": "stdout",
          "text": [
            "Epoch 1/10\n",
            "75/75 [==============================] - 14s 169ms/step - loss: 0.3024 - binary_accuracy: 0.8675 - auc: 0.9427 - precision: 0.9038 - recall: 0.8225 - val_loss: 0.6773 - val_binary_accuracy: 0.7000 - val_auc: 0.7672 - val_precision: 0.7128 - val_recall: 0.6700\n",
            "Epoch 2/10\n",
            "75/75 [==============================] - 13s 168ms/step - loss: 0.2689 - binary_accuracy: 0.8779 - auc: 0.9547 - precision: 0.9290 - recall: 0.8183 - val_loss: 0.6856 - val_binary_accuracy: 0.6950 - val_auc: 0.7617 - val_precision: 0.7038 - val_recall: 0.6733\n",
            "Epoch 3/10\n",
            "75/75 [==============================] - 13s 168ms/step - loss: 0.2320 - binary_accuracy: 0.8942 - auc: 0.9663 - precision: 0.9171 - recall: 0.8667 - val_loss: 0.7557 - val_binary_accuracy: 0.7400 - val_auc: 0.8001 - val_precision: 0.7500 - val_recall: 0.7200\n",
            "Epoch 4/10\n",
            "75/75 [==============================] - 15s 196ms/step - loss: 0.2297 - binary_accuracy: 0.8967 - auc: 0.9673 - precision: 0.9281 - recall: 0.8600 - val_loss: 0.7737 - val_binary_accuracy: 0.7267 - val_auc: 0.7794 - val_precision: 0.7152 - val_recall: 0.7533\n",
            "Epoch 5/10\n",
            "75/75 [==============================] - 12s 161ms/step - loss: 0.1956 - binary_accuracy: 0.9129 - auc: 0.9767 - precision: 0.9492 - recall: 0.8725 - val_loss: 0.8727 - val_binary_accuracy: 0.7267 - val_auc: 0.7747 - val_precision: 0.7166 - val_recall: 0.7500\n",
            "Epoch 6/10\n",
            "75/75 [==============================] - 13s 177ms/step - loss: 0.1699 - binary_accuracy: 0.9183 - auc: 0.9825 - precision: 0.9427 - recall: 0.8908 - val_loss: 1.1062 - val_binary_accuracy: 0.7033 - val_auc: 0.7580 - val_precision: 0.6848 - val_recall: 0.7533\n",
            "Epoch 7/10\n",
            "75/75 [==============================] - 12s 164ms/step - loss: 0.1479 - binary_accuracy: 0.9342 - auc: 0.9862 - precision: 0.9586 - recall: 0.9075 - val_loss: 0.9474 - val_binary_accuracy: 0.7083 - val_auc: 0.7656 - val_precision: 0.7119 - val_recall: 0.7000\n",
            "Epoch 8/10\n",
            "75/75 [==============================] - 13s 179ms/step - loss: 0.1583 - binary_accuracy: 0.9271 - auc: 0.9842 - precision: 0.9564 - recall: 0.8950 - val_loss: 0.9563 - val_binary_accuracy: 0.7200 - val_auc: 0.7771 - val_precision: 0.7308 - val_recall: 0.6967\n",
            "Epoch 9/10\n",
            "75/75 [==============================] - 12s 156ms/step - loss: 0.1344 - binary_accuracy: 0.9321 - auc: 0.9886 - precision: 0.9642 - recall: 0.8975 - val_loss: 1.0056 - val_binary_accuracy: 0.7033 - val_auc: 0.7431 - val_precision: 0.7075 - val_recall: 0.6933\n",
            "Epoch 10/10\n",
            "75/75 [==============================] - 12s 162ms/step - loss: 0.1321 - binary_accuracy: 0.9421 - auc: 0.9891 - precision: 0.9741 - recall: 0.9083 - val_loss: 1.0287 - val_binary_accuracy: 0.7150 - val_auc: 0.7654 - val_precision: 0.7363 - val_recall: 0.6700\n"
          ]
        }
      ]
    },
    {
      "cell_type": "code",
      "source": [
        "standard_metrics"
      ],
      "metadata": {
        "colab": {
          "base_uri": "https://localhost:8080/"
        },
        "id": "KcV_oSoUyL3U",
        "outputId": "f189cdb0-b280-4480-8a77-c7da472b7190"
      },
      "execution_count": 70,
      "outputs": [
        {
          "output_type": "execute_result",
          "data": {
            "text/plain": [
              "[<function keras.metrics.accuracy_metrics.binary_accuracy(y_true, y_pred, threshold=0.5)>,\n",
              " <keras.metrics.confusion_metrics.AUC at 0x7f8bd637f040>,\n",
              " <keras.metrics.confusion_metrics.Precision at 0x7f8bd637f070>,\n",
              " <keras.metrics.confusion_metrics.Recall at 0x7f8bd6b80ee0>]"
            ]
          },
          "metadata": {},
          "execution_count": 70
        }
      ]
    },
    {
      "cell_type": "code",
      "source": [
        "export = []\n",
        "for i in standard_metrics:\n",
        "  export.append(fit.history[f'{i.lower()}'][-1])\n",
        "  export.append(fit.history[f'val_{i.lower()}'][-1])\n",
        "export"
      ],
      "metadata": {
        "colab": {
          "base_uri": "https://localhost:8080/"
        },
        "id": "rA60lA8asn9u",
        "outputId": "bea3d28e-d254-4957-bf13-b123d0b4975b"
      },
      "execution_count": 83,
      "outputs": [
        {
          "output_type": "execute_result",
          "data": {
            "text/plain": [
              "[0.9420833587646484,\n",
              " 0.7149999737739563,\n",
              " 0.9891034364700317,\n",
              " 0.7653888463973999,\n",
              " 0.9740840196609497,\n",
              " 0.7362637519836426,\n",
              " 0.9083333611488342,\n",
              " 0.6700000166893005]"
            ]
          },
          "metadata": {},
          "execution_count": 83
        }
      ]
    },
    {
      "cell_type": "code",
      "source": [
        "df = pd.DataFrame(data = np.array([export]), columns = ['train_accuracy','val_accuracy','train_AUC','val_AUC','train_Precision','val_Precision', 'train_Recall ','val_Recall'], index= ['convnet'])"
      ],
      "metadata": {
        "id": "ibNEK7falm5K"
      },
      "execution_count": 84,
      "outputs": []
    },
    {
      "cell_type": "code",
      "source": [
        "df.to_csv('maia_hack.csv')"
      ],
      "metadata": {
        "id": "A00QHW7lz4o5"
      },
      "execution_count": 91,
      "outputs": []
    },
    {
      "cell_type": "code",
      "source": [
        "def model_preds(model):\n",
        "  '''\n",
        "  This function will return the y_true_classes and y_pred_clasess\n",
        "  Which will allows us to build a confusion matrix\n",
        "  '''\n",
        "  \n",
        "  y_true_classes = val_ds.labels\n",
        "\n",
        "  y_pred_classes = model.predict(val_ds)\n",
        "\n",
        "  y_pred_classes = np.argmax(y_pred_classes, axis=1)\n",
        "\n",
        "  return (y_true_classes, y_pred_classes)"
      ],
      "metadata": {
        "id": "pKTsrVvCf5IX"
      },
      "execution_count": 85,
      "outputs": []
    },
    {
      "cell_type": "code",
      "source": [
        "y_true_classes, y_pred_classes = model_preds(model)\n",
        "#accuracy\n",
        "accuracy = accuracy_score(y_true_classes, y_pred_classes)\n",
        "print(\"Accuracy:\", accuracy)\n"
      ],
      "metadata": {
        "colab": {
          "base_uri": "https://localhost:8080/"
        },
        "id": "voDrsYQ-V_We",
        "outputId": "82491992-a65b-4c46-a443-a5103f56589d"
      },
      "execution_count": 86,
      "outputs": [
        {
          "output_type": "stream",
          "name": "stdout",
          "text": [
            "19/19 [==============================] - 2s 116ms/step\n",
            "Accuracy: 0.5\n"
          ]
        }
      ]
    }
  ]
}