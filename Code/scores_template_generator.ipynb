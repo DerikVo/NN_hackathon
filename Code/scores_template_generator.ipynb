{
 "cells": [
  {
   "cell_type": "code",
   "execution_count": 4,
   "metadata": {},
   "outputs": [
    {
     "name": "stdout",
     "output_type": "stream",
     "text": [
      "         train_prec  val_prec  train_recall  val_recall  train_auc  val_auc  \\\n",
      "model_a           1         1             1           1          1        1   \n",
      "model_b           1         1             1           1          1        1   \n",
      "model_c           1         1             1           1          1        1   \n",
      "\n",
      "         train_f1  val_f1  \n",
      "model_a         1       1  \n",
      "model_b         1       1  \n",
      "model_c         1       1  \n"
     ]
    }
   ],
   "source": [
    "# Imports\n",
    "import pandas as pd\n",
    "import numpy as np\n",
    "\n",
    "# first run\n",
    "df = pd.DataFrame(data=1,\n",
    "                  index=[\"model_a\", \"model_b\", \"model_c\"],\n",
    "                  columns=[\"train_prec\", \"val_prec\",\n",
    "                           \"train_recall\", \"val_recall\",\n",
    "                           \"train_auc\", \"val_auc\",\n",
    "                           \"train_f1\", \"val_f1\"])\n",
    "print(df)\n",
    "df.to_csv(\"model_scores.csv\")"
   ]
  },
  {
   "cell_type": "code",
   "execution_count": null,
   "metadata": {},
   "outputs": [],
   "source": []
  }
 ],
 "metadata": {
  "kernelspec": {
   "display_name": "PythonData",
   "language": "python",
   "name": "python3"
  },
  "language_info": {
   "codemirror_mode": {
    "name": "ipython",
    "version": 3
   },
   "file_extension": ".py",
   "mimetype": "text/x-python",
   "name": "python",
   "nbconvert_exporter": "python",
   "pygments_lexer": "ipython3",
   "version": "3.9.16"
  },
  "orig_nbformat": 4
 },
 "nbformat": 4,
 "nbformat_minor": 2
}
