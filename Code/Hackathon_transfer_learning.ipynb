{
  "nbformat": 4,
  "nbformat_minor": 0,
  "metadata": {
    "colab": {
      "provenance": [],
      "gpuType": "T4"
    },
    "kernelspec": {
      "name": "python3",
      "display_name": "Python 3"
    },
    "language_info": {
      "name": "python"
    },
    "accelerator": "GPU"
  },
  "cells": [
    {
      "cell_type": "markdown",
      "source": [
        " large portion of code (blocks 1 -32) was taken from:\n",
        " https://github.com/DerikVo/DSI_project_4_plant_disease/blob/main/notebooks/01_Potato_PlantVillageEDA.ipynb"
      ],
      "metadata": {
        "id": "uN-yiokY--o9"
      }
    },
    {
      "cell_type": "code",
      "execution_count": null,
      "metadata": {
        "id": "d8Kympj05b5r"
      },
      "outputs": [],
      "source": [
        "# imports\n",
        "import matplotlib.pyplot as plt\n",
        "import numpy as np\n",
        "import os\n",
        "import pandas as pd\n",
        "import seaborn as sns\n",
        "\n",
        "from tensorflow.keras.layers import Dense, Dropout, Flatten, Conv2D, MaxPooling2D\n",
        "from tensorflow.keras.regularizers import l2\n",
        "from tensorflow.keras.callbacks import EarlyStopping\n",
        "from tensorflow.keras.models import Sequential\n",
        "from tensorflow.keras.preprocessing.image import ImageDataGenerator\n",
        "from tensorflow.keras import layers\n",
        "from keras.applications import ConvNeXtTiny\n",
        "\n",
        "from sklearn.model_selection import train_test_split\n",
        "from sklearn.metrics import confusion_matrix, classification_report"
      ]
    },
    {
      "cell_type": "code",
      "source": [
        "import numpy as np\n",
        "np.random.seed(1)\n",
        "from tensorflow.keras.utils import set_random_seed\n",
        "set_random_seed(1)"
      ],
      "metadata": {
        "id": "iWqFAfwX5lmW"
      },
      "execution_count": null,
      "outputs": []
    },
    {
      "cell_type": "code",
      "source": [
        "from google.colab import drive\n",
        "drive.mount('/content/drive')"
      ],
      "metadata": {
        "colab": {
          "base_uri": "https://localhost:8080/"
        },
        "id": "Y5SEBD9-5oUJ",
        "outputId": "ae5c5f93-7806-4e17-c8ac-b4c015fc5b27"
      },
      "execution_count": null,
      "outputs": [
        {
          "output_type": "stream",
          "name": "stdout",
          "text": [
            "Mounted at /content/drive\n"
          ]
        }
      ]
    },
    {
      "cell_type": "code",
      "source": [
        "!ls /content/drive/MyDrive/HackAthon"
      ],
      "metadata": {
        "colab": {
          "base_uri": "https://localhost:8080/"
        },
        "id": "-GOAWqYj6t2H",
        "outputId": "912c3690-c8f9-4a8b-94dd-5680ce844b2e"
      },
      "execution_count": null,
      "outputs": [
        {
          "output_type": "stream",
          "name": "stdout",
          "text": [
            "hotdog-nothotdog.zip\n"
          ]
        }
      ]
    },
    {
      "cell_type": "code",
      "source": [
        "unzip_path = f'/content/drive/MyDrive/HackAthon/hotdog-nothotdog.zip'\n",
        "!unzip -q \"$unzip_path\""
      ],
      "metadata": {
        "id": "0_xHk-OA6sHv"
      },
      "execution_count": null,
      "outputs": []
    },
    {
      "cell_type": "markdown",
      "source": [],
      "metadata": {
        "id": "hagcwg0LB3kY"
      }
    },
    {
      "cell_type": "code",
      "source": [
        "# initialize the data generator\n",
        "datagen = ImageDataGenerator(validation_split=0.2)\n",
        "\n",
        "# get training data\n",
        "train_ds = datagen.flow_from_directory(\n",
        "    '/content/train',\n",
        "    target_size=(256, 256),\n",
        "    batch_size=32,\n",
        "    class_mode='binary',\n",
        "    subset='training',  # set as training data\n",
        "    seed=42\n",
        ")\n",
        "\n",
        "# get validation data\n",
        "val_ds = datagen.flow_from_directory(\n",
        "    '/content/train',\n",
        "    target_size=(256, 256),\n",
        "    batch_size=32,\n",
        "    class_mode='binary',\n",
        "    subset='validation',  # set as validation data\n",
        "    seed=42,\n",
        "    shuffle=False\n",
        ")\n",
        "\n",
        "test_ds = datagen.flow_from_directory(\n",
        "    '/content/test',\n",
        "    target_size=(256, 256),\n",
        "    class_mode='binary',\n",
        "    seed=42,\n",
        "    shuffle=False\n",
        ")"
      ],
      "metadata": {
        "id": "XbKI7Vo4Bwqp",
        "colab": {
          "base_uri": "https://localhost:8080/"
        },
        "outputId": "0c548aa3-daea-4e8d-fcdd-887aa5fd5c24"
      },
      "execution_count": null,
      "outputs": [
        {
          "output_type": "stream",
          "name": "stdout",
          "text": [
            "Found 2400 images belonging to 2 classes.\n",
            "Found 600 images belonging to 2 classes.\n",
            "Found 644 images belonging to 2 classes.\n"
          ]
        }
      ]
    },
    {
      "cell_type": "code",
      "source": [
        "train_ds.class_indices"
      ],
      "metadata": {
        "colab": {
          "base_uri": "https://localhost:8080/"
        },
        "id": "oui09xkZG_DH",
        "outputId": "5306383f-17d5-4fb8-d6f9-62c70e1fad30"
      },
      "execution_count": null,
      "outputs": [
        {
          "output_type": "execute_result",
          "data": {
            "text/plain": [
              "{'hotdog': 0, 'nothotdog': 1}"
            ]
          },
          "metadata": {},
          "execution_count": 77
        }
      ]
    },
    {
      "cell_type": "code",
      "source": [
        "test_ds.class_indices"
      ],
      "metadata": {
        "colab": {
          "base_uri": "https://localhost:8080/"
        },
        "id": "EOWdmAZdJSxx",
        "outputId": "abaa6a74-bee8-44fb-cb9b-70980d80e7ef"
      },
      "execution_count": null,
      "outputs": [
        {
          "output_type": "execute_result",
          "data": {
            "text/plain": [
              "{'hotdog': 0, 'nothotdog': 1}"
            ]
          },
          "metadata": {},
          "execution_count": 78
        }
      ]
    },
    {
      "cell_type": "code",
      "source": [
        "convnet = ConvNeXtTiny(include_top = False, weights=\"imagenet\", classes = 2)\n",
        "convnet.trainable = False"
      ],
      "metadata": {
        "id": "gbn5spv1LLAD"
      },
      "execution_count": null,
      "outputs": []
    },
    {
      "cell_type": "code",
      "source": [
        "es = EarlyStopping(patience = 5)\n",
        "\n",
        "model1 = Sequential()\n",
        "model1.add(layers.Input(shape=(256,256,3)))\n",
        "#model1.add(layers.Rescaling(1./255))\n",
        "model1.add(convnet)\n",
        "\n",
        "# Convolutional and pooling layers\n",
        "model1.add(Conv2D(64, (3,3), activation='relu'))\n",
        "model1.add(Dropout(0.5))\n",
        "model1.add(Conv2D(32, (3,3), activation='relu'))\n",
        "model1.add(MaxPooling2D(pool_size=(2,2)))\n",
        "\n",
        "model1.add(Flatten())\n",
        "# Dense Layers\n",
        "model1.add(Dense(64, activation='relu'))\n",
        "\n",
        "# Output\n",
        "model1.add(Dense(1, activation='sigmoid'))\n",
        "\n",
        "model1.compile(\n",
        "    optimizer=\"adam\",\n",
        "    loss=\"binary_crossentropy\",\n",
        "    metrics=[\"acc\"]\n",
        ")"
      ],
      "metadata": {
        "id": "mIQJST2lHDLz"
      },
      "execution_count": null,
      "outputs": []
    },
    {
      "cell_type": "code",
      "source": [
        "from tensorflow.keras.metrics import binary_accuracy, AUC, Precision, Recall"
      ],
      "metadata": {
        "id": "gUc8hcJ4iqa8"
      },
      "execution_count": null,
      "outputs": []
    },
    {
      "cell_type": "code",
      "source": [
        "model1.input_shape"
      ],
      "metadata": {
        "colab": {
          "base_uri": "https://localhost:8080/"
        },
        "id": "FPzDKdHMImKw",
        "outputId": "879a95d0-2781-4d20-bf8e-f5ff5c75c1a5"
      },
      "execution_count": null,
      "outputs": [
        {
          "output_type": "execute_result",
          "data": {
            "text/plain": [
              "(None, 256, 256, 3)"
            ]
          },
          "metadata": {},
          "execution_count": 186
        }
      ]
    },
    {
      "cell_type": "code",
      "source": [
        "standard_metrics = [\n",
        "    'binary_accuracy', \n",
        "    'AUC', \n",
        "    'Precision', \n",
        "    'Recall'\n",
        "]"
      ],
      "metadata": {
        "id": "yneSKQqQi8wY"
      },
      "execution_count": null,
      "outputs": []
    },
    {
      "cell_type": "code",
      "source": [
        "model1.summary()"
      ],
      "metadata": {
        "colab": {
          "base_uri": "https://localhost:8080/"
        },
        "id": "0191CtLSIns9",
        "outputId": "63ca5c10-a733-4282-a82b-3912525b960c"
      },
      "execution_count": null,
      "outputs": [
        {
          "output_type": "stream",
          "name": "stdout",
          "text": [
            "Model: \"sequential_38\"\n",
            "_________________________________________________________________\n",
            " Layer (type)                Output Shape              Param #   \n",
            "=================================================================\n",
            " convnext_tiny (Functional)  (None, None, None, 768)   27820128  \n",
            "                                                                 \n",
            " flatten_33 (Flatten)        (None, 49152)             0         \n",
            "                                                                 \n",
            " dense_53 (Dense)            (None, 64)                3145792   \n",
            "                                                                 \n",
            " dense_54 (Dense)            (None, 1)                 65        \n",
            "                                                                 \n",
            "=================================================================\n",
            "Total params: 30,965,985\n",
            "Trainable params: 3,145,857\n",
            "Non-trainable params: 27,820,128\n",
            "_________________________________________________________________\n"
          ]
        }
      ]
    },
    {
      "cell_type": "code",
      "source": [
        "h1 = model1.fit(train_ds,\n",
        "               validation_data=val_ds,\n",
        "               callbacks = [es],\n",
        "               epochs=20)"
      ],
      "metadata": {
        "colab": {
          "base_uri": "https://localhost:8080/",
          "height": 453
        },
        "id": "QFhuCnqmIrAi",
        "outputId": "21941253-2a57-4551-a56c-346bc9f985cc"
      },
      "execution_count": null,
      "outputs": [
        {
          "output_type": "stream",
          "name": "stdout",
          "text": [
            "Epoch 1/20\n",
            "75/75 [==============================] - ETA: 0s - loss: 0.2396 - binary_accuracy: 0.9392 - auc: 0.9772 - precision: 0.9363 - recall: 0.9425"
          ]
        },
        {
          "output_type": "error",
          "ename": "KeyboardInterrupt",
          "evalue": "ignored",
          "traceback": [
            "\u001b[0;31m---------------------------------------------------------------------------\u001b[0m",
            "\u001b[0;31mKeyboardInterrupt\u001b[0m                         Traceback (most recent call last)",
            "\u001b[0;32m<ipython-input-204-f9b823b6357d>\u001b[0m in \u001b[0;36m<cell line: 1>\u001b[0;34m()\u001b[0m\n\u001b[0;32m----> 1\u001b[0;31m h1 = model1.fit(train_ds,\n\u001b[0m\u001b[1;32m      2\u001b[0m                \u001b[0mvalidation_data\u001b[0m\u001b[0;34m=\u001b[0m\u001b[0mval_ds\u001b[0m\u001b[0;34m,\u001b[0m\u001b[0;34m\u001b[0m\u001b[0;34m\u001b[0m\u001b[0m\n\u001b[1;32m      3\u001b[0m                \u001b[0mcallbacks\u001b[0m \u001b[0;34m=\u001b[0m \u001b[0;34m[\u001b[0m\u001b[0mes\u001b[0m\u001b[0;34m]\u001b[0m\u001b[0;34m,\u001b[0m\u001b[0;34m\u001b[0m\u001b[0;34m\u001b[0m\u001b[0m\n\u001b[1;32m      4\u001b[0m                epochs=20)\n",
            "\u001b[0;32m/usr/local/lib/python3.10/dist-packages/keras/utils/traceback_utils.py\u001b[0m in \u001b[0;36merror_handler\u001b[0;34m(*args, **kwargs)\u001b[0m\n\u001b[1;32m     63\u001b[0m         \u001b[0mfiltered_tb\u001b[0m \u001b[0;34m=\u001b[0m \u001b[0;32mNone\u001b[0m\u001b[0;34m\u001b[0m\u001b[0;34m\u001b[0m\u001b[0m\n\u001b[1;32m     64\u001b[0m         \u001b[0;32mtry\u001b[0m\u001b[0;34m:\u001b[0m\u001b[0;34m\u001b[0m\u001b[0;34m\u001b[0m\u001b[0m\n\u001b[0;32m---> 65\u001b[0;31m             \u001b[0;32mreturn\u001b[0m \u001b[0mfn\u001b[0m\u001b[0;34m(\u001b[0m\u001b[0;34m*\u001b[0m\u001b[0margs\u001b[0m\u001b[0;34m,\u001b[0m \u001b[0;34m**\u001b[0m\u001b[0mkwargs\u001b[0m\u001b[0;34m)\u001b[0m\u001b[0;34m\u001b[0m\u001b[0;34m\u001b[0m\u001b[0m\n\u001b[0m\u001b[1;32m     66\u001b[0m         \u001b[0;32mexcept\u001b[0m \u001b[0mException\u001b[0m \u001b[0;32mas\u001b[0m \u001b[0me\u001b[0m\u001b[0;34m:\u001b[0m\u001b[0;34m\u001b[0m\u001b[0;34m\u001b[0m\u001b[0m\n\u001b[1;32m     67\u001b[0m             \u001b[0mfiltered_tb\u001b[0m \u001b[0;34m=\u001b[0m \u001b[0m_process_traceback_frames\u001b[0m\u001b[0;34m(\u001b[0m\u001b[0me\u001b[0m\u001b[0;34m.\u001b[0m\u001b[0m__traceback__\u001b[0m\u001b[0;34m)\u001b[0m\u001b[0;34m\u001b[0m\u001b[0;34m\u001b[0m\u001b[0m\n",
            "\u001b[0;32m/usr/local/lib/python3.10/dist-packages/keras/engine/training.py\u001b[0m in \u001b[0;36mfit\u001b[0;34m(self, x, y, batch_size, epochs, verbose, callbacks, validation_split, validation_data, shuffle, class_weight, sample_weight, initial_epoch, steps_per_epoch, validation_steps, validation_batch_size, validation_freq, max_queue_size, workers, use_multiprocessing)\u001b[0m\n\u001b[1;32m   1727\u001b[0m                             \u001b[0msteps_per_execution\u001b[0m\u001b[0;34m=\u001b[0m\u001b[0mself\u001b[0m\u001b[0;34m.\u001b[0m\u001b[0m_steps_per_execution\u001b[0m\u001b[0;34m,\u001b[0m\u001b[0;34m\u001b[0m\u001b[0;34m\u001b[0m\u001b[0m\n\u001b[1;32m   1728\u001b[0m                         )\n\u001b[0;32m-> 1729\u001b[0;31m                     val_logs = self.evaluate(\n\u001b[0m\u001b[1;32m   1730\u001b[0m                         \u001b[0mx\u001b[0m\u001b[0;34m=\u001b[0m\u001b[0mval_x\u001b[0m\u001b[0;34m,\u001b[0m\u001b[0;34m\u001b[0m\u001b[0;34m\u001b[0m\u001b[0m\n\u001b[1;32m   1731\u001b[0m                         \u001b[0my\u001b[0m\u001b[0;34m=\u001b[0m\u001b[0mval_y\u001b[0m\u001b[0;34m,\u001b[0m\u001b[0;34m\u001b[0m\u001b[0;34m\u001b[0m\u001b[0m\n",
            "\u001b[0;32m/usr/local/lib/python3.10/dist-packages/keras/utils/traceback_utils.py\u001b[0m in \u001b[0;36merror_handler\u001b[0;34m(*args, **kwargs)\u001b[0m\n\u001b[1;32m     63\u001b[0m         \u001b[0mfiltered_tb\u001b[0m \u001b[0;34m=\u001b[0m \u001b[0;32mNone\u001b[0m\u001b[0;34m\u001b[0m\u001b[0;34m\u001b[0m\u001b[0m\n\u001b[1;32m     64\u001b[0m         \u001b[0;32mtry\u001b[0m\u001b[0;34m:\u001b[0m\u001b[0;34m\u001b[0m\u001b[0;34m\u001b[0m\u001b[0m\n\u001b[0;32m---> 65\u001b[0;31m             \u001b[0;32mreturn\u001b[0m \u001b[0mfn\u001b[0m\u001b[0;34m(\u001b[0m\u001b[0;34m*\u001b[0m\u001b[0margs\u001b[0m\u001b[0;34m,\u001b[0m \u001b[0;34m**\u001b[0m\u001b[0mkwargs\u001b[0m\u001b[0;34m)\u001b[0m\u001b[0;34m\u001b[0m\u001b[0;34m\u001b[0m\u001b[0m\n\u001b[0m\u001b[1;32m     66\u001b[0m         \u001b[0;32mexcept\u001b[0m \u001b[0mException\u001b[0m \u001b[0;32mas\u001b[0m \u001b[0me\u001b[0m\u001b[0;34m:\u001b[0m\u001b[0;34m\u001b[0m\u001b[0;34m\u001b[0m\u001b[0m\n\u001b[1;32m     67\u001b[0m             \u001b[0mfiltered_tb\u001b[0m \u001b[0;34m=\u001b[0m \u001b[0m_process_traceback_frames\u001b[0m\u001b[0;34m(\u001b[0m\u001b[0me\u001b[0m\u001b[0;34m.\u001b[0m\u001b[0m__traceback__\u001b[0m\u001b[0;34m)\u001b[0m\u001b[0;34m\u001b[0m\u001b[0;34m\u001b[0m\u001b[0m\n",
            "\u001b[0;32m/usr/local/lib/python3.10/dist-packages/keras/engine/training.py\u001b[0m in \u001b[0;36mevaluate\u001b[0;34m(self, x, y, batch_size, verbose, sample_weight, steps, callbacks, max_queue_size, workers, use_multiprocessing, return_dict, **kwargs)\u001b[0m\n\u001b[1;32m   2070\u001b[0m                         ):\n\u001b[1;32m   2071\u001b[0m                             \u001b[0mcallbacks\u001b[0m\u001b[0;34m.\u001b[0m\u001b[0mon_test_batch_begin\u001b[0m\u001b[0;34m(\u001b[0m\u001b[0mstep\u001b[0m\u001b[0;34m)\u001b[0m\u001b[0;34m\u001b[0m\u001b[0;34m\u001b[0m\u001b[0m\n\u001b[0;32m-> 2072\u001b[0;31m                             \u001b[0mtmp_logs\u001b[0m \u001b[0;34m=\u001b[0m \u001b[0mself\u001b[0m\u001b[0;34m.\u001b[0m\u001b[0mtest_function\u001b[0m\u001b[0;34m(\u001b[0m\u001b[0miterator\u001b[0m\u001b[0;34m)\u001b[0m\u001b[0;34m\u001b[0m\u001b[0;34m\u001b[0m\u001b[0m\n\u001b[0m\u001b[1;32m   2073\u001b[0m                             \u001b[0;32mif\u001b[0m \u001b[0mdata_handler\u001b[0m\u001b[0;34m.\u001b[0m\u001b[0mshould_sync\u001b[0m\u001b[0;34m:\u001b[0m\u001b[0;34m\u001b[0m\u001b[0;34m\u001b[0m\u001b[0m\n\u001b[1;32m   2074\u001b[0m                                 \u001b[0mcontext\u001b[0m\u001b[0;34m.\u001b[0m\u001b[0masync_wait\u001b[0m\u001b[0;34m(\u001b[0m\u001b[0;34m)\u001b[0m\u001b[0;34m\u001b[0m\u001b[0;34m\u001b[0m\u001b[0m\n",
            "\u001b[0;32m/usr/local/lib/python3.10/dist-packages/tensorflow/python/util/traceback_utils.py\u001b[0m in \u001b[0;36merror_handler\u001b[0;34m(*args, **kwargs)\u001b[0m\n\u001b[1;32m    148\u001b[0m     \u001b[0mfiltered_tb\u001b[0m \u001b[0;34m=\u001b[0m \u001b[0;32mNone\u001b[0m\u001b[0;34m\u001b[0m\u001b[0;34m\u001b[0m\u001b[0m\n\u001b[1;32m    149\u001b[0m     \u001b[0;32mtry\u001b[0m\u001b[0;34m:\u001b[0m\u001b[0;34m\u001b[0m\u001b[0;34m\u001b[0m\u001b[0m\n\u001b[0;32m--> 150\u001b[0;31m       \u001b[0;32mreturn\u001b[0m \u001b[0mfn\u001b[0m\u001b[0;34m(\u001b[0m\u001b[0;34m*\u001b[0m\u001b[0margs\u001b[0m\u001b[0;34m,\u001b[0m \u001b[0;34m**\u001b[0m\u001b[0mkwargs\u001b[0m\u001b[0;34m)\u001b[0m\u001b[0;34m\u001b[0m\u001b[0;34m\u001b[0m\u001b[0m\n\u001b[0m\u001b[1;32m    151\u001b[0m     \u001b[0;32mexcept\u001b[0m \u001b[0mException\u001b[0m \u001b[0;32mas\u001b[0m \u001b[0me\u001b[0m\u001b[0;34m:\u001b[0m\u001b[0;34m\u001b[0m\u001b[0;34m\u001b[0m\u001b[0m\n\u001b[1;32m    152\u001b[0m       \u001b[0mfiltered_tb\u001b[0m \u001b[0;34m=\u001b[0m \u001b[0m_process_traceback_frames\u001b[0m\u001b[0;34m(\u001b[0m\u001b[0me\u001b[0m\u001b[0;34m.\u001b[0m\u001b[0m__traceback__\u001b[0m\u001b[0;34m)\u001b[0m\u001b[0;34m\u001b[0m\u001b[0;34m\u001b[0m\u001b[0m\n",
            "\u001b[0;32m/usr/local/lib/python3.10/dist-packages/tensorflow/python/eager/polymorphic_function/polymorphic_function.py\u001b[0m in \u001b[0;36m__call__\u001b[0;34m(self, *args, **kwds)\u001b[0m\n\u001b[1;32m    892\u001b[0m \u001b[0;34m\u001b[0m\u001b[0m\n\u001b[1;32m    893\u001b[0m       \u001b[0;32mwith\u001b[0m \u001b[0mOptionalXlaContext\u001b[0m\u001b[0;34m(\u001b[0m\u001b[0mself\u001b[0m\u001b[0;34m.\u001b[0m\u001b[0m_jit_compile\u001b[0m\u001b[0;34m)\u001b[0m\u001b[0;34m:\u001b[0m\u001b[0;34m\u001b[0m\u001b[0;34m\u001b[0m\u001b[0m\n\u001b[0;32m--> 894\u001b[0;31m         \u001b[0mresult\u001b[0m \u001b[0;34m=\u001b[0m \u001b[0mself\u001b[0m\u001b[0;34m.\u001b[0m\u001b[0m_call\u001b[0m\u001b[0;34m(\u001b[0m\u001b[0;34m*\u001b[0m\u001b[0margs\u001b[0m\u001b[0;34m,\u001b[0m \u001b[0;34m**\u001b[0m\u001b[0mkwds\u001b[0m\u001b[0;34m)\u001b[0m\u001b[0;34m\u001b[0m\u001b[0;34m\u001b[0m\u001b[0m\n\u001b[0m\u001b[1;32m    895\u001b[0m \u001b[0;34m\u001b[0m\u001b[0m\n\u001b[1;32m    896\u001b[0m       \u001b[0mnew_tracing_count\u001b[0m \u001b[0;34m=\u001b[0m \u001b[0mself\u001b[0m\u001b[0;34m.\u001b[0m\u001b[0mexperimental_get_tracing_count\u001b[0m\u001b[0;34m(\u001b[0m\u001b[0;34m)\u001b[0m\u001b[0;34m\u001b[0m\u001b[0;34m\u001b[0m\u001b[0m\n",
            "\u001b[0;32m/usr/local/lib/python3.10/dist-packages/tensorflow/python/eager/polymorphic_function/polymorphic_function.py\u001b[0m in \u001b[0;36m_call\u001b[0;34m(self, *args, **kwds)\u001b[0m\n\u001b[1;32m    964\u001b[0m               args, kwds))\n\u001b[1;32m    965\u001b[0m       \u001b[0;31m# If we did not create any variables the trace we have is good enough.\u001b[0m\u001b[0;34m\u001b[0m\u001b[0;34m\u001b[0m\u001b[0m\n\u001b[0;32m--> 966\u001b[0;31m       return self._concrete_variable_creation_fn._call_flat(   # pylint: disable=protected-access\n\u001b[0m\u001b[1;32m    967\u001b[0m           \u001b[0mfiltered_flat_args\u001b[0m\u001b[0;34m,\u001b[0m\u001b[0;34m\u001b[0m\u001b[0;34m\u001b[0m\u001b[0m\n\u001b[1;32m    968\u001b[0m           self._concrete_variable_creation_fn.captured_inputs)\n",
            "\u001b[0;32m/usr/local/lib/python3.10/dist-packages/tensorflow/python/eager/polymorphic_function/monomorphic_function.py\u001b[0m in \u001b[0;36m_call_flat\u001b[0;34m(self, args, captured_inputs, cancellation_manager)\u001b[0m\n\u001b[1;32m   1755\u001b[0m         and executing_eagerly):\n\u001b[1;32m   1756\u001b[0m       \u001b[0;31m# No tape is watching; skip to running the function.\u001b[0m\u001b[0;34m\u001b[0m\u001b[0;34m\u001b[0m\u001b[0m\n\u001b[0;32m-> 1757\u001b[0;31m       return self._build_call_outputs(self._inference_function.call(\n\u001b[0m\u001b[1;32m   1758\u001b[0m           ctx, args, cancellation_manager=cancellation_manager))\n\u001b[1;32m   1759\u001b[0m     forward_backward = self._select_forward_and_backward_functions(\n",
            "\u001b[0;32m/usr/local/lib/python3.10/dist-packages/tensorflow/python/eager/polymorphic_function/monomorphic_function.py\u001b[0m in \u001b[0;36mcall\u001b[0;34m(self, ctx, args, cancellation_manager)\u001b[0m\n\u001b[1;32m    379\u001b[0m       \u001b[0;32mwith\u001b[0m \u001b[0m_InterpolateFunctionError\u001b[0m\u001b[0;34m(\u001b[0m\u001b[0mself\u001b[0m\u001b[0;34m)\u001b[0m\u001b[0;34m:\u001b[0m\u001b[0;34m\u001b[0m\u001b[0;34m\u001b[0m\u001b[0m\n\u001b[1;32m    380\u001b[0m         \u001b[0;32mif\u001b[0m \u001b[0mcancellation_manager\u001b[0m \u001b[0;32mis\u001b[0m \u001b[0;32mNone\u001b[0m\u001b[0;34m:\u001b[0m\u001b[0;34m\u001b[0m\u001b[0;34m\u001b[0m\u001b[0m\n\u001b[0;32m--> 381\u001b[0;31m           outputs = execute.execute(\n\u001b[0m\u001b[1;32m    382\u001b[0m               \u001b[0mstr\u001b[0m\u001b[0;34m(\u001b[0m\u001b[0mself\u001b[0m\u001b[0;34m.\u001b[0m\u001b[0msignature\u001b[0m\u001b[0;34m.\u001b[0m\u001b[0mname\u001b[0m\u001b[0;34m)\u001b[0m\u001b[0;34m,\u001b[0m\u001b[0;34m\u001b[0m\u001b[0;34m\u001b[0m\u001b[0m\n\u001b[1;32m    383\u001b[0m               \u001b[0mnum_outputs\u001b[0m\u001b[0;34m=\u001b[0m\u001b[0mself\u001b[0m\u001b[0;34m.\u001b[0m\u001b[0m_num_outputs\u001b[0m\u001b[0;34m,\u001b[0m\u001b[0;34m\u001b[0m\u001b[0;34m\u001b[0m\u001b[0m\n",
            "\u001b[0;32m/usr/local/lib/python3.10/dist-packages/tensorflow/python/eager/execute.py\u001b[0m in \u001b[0;36mquick_execute\u001b[0;34m(op_name, num_outputs, inputs, attrs, ctx, name)\u001b[0m\n\u001b[1;32m     50\u001b[0m   \u001b[0;32mtry\u001b[0m\u001b[0;34m:\u001b[0m\u001b[0;34m\u001b[0m\u001b[0;34m\u001b[0m\u001b[0m\n\u001b[1;32m     51\u001b[0m     \u001b[0mctx\u001b[0m\u001b[0;34m.\u001b[0m\u001b[0mensure_initialized\u001b[0m\u001b[0;34m(\u001b[0m\u001b[0;34m)\u001b[0m\u001b[0;34m\u001b[0m\u001b[0;34m\u001b[0m\u001b[0m\n\u001b[0;32m---> 52\u001b[0;31m     tensors = pywrap_tfe.TFE_Py_Execute(ctx._handle, device_name, op_name,\n\u001b[0m\u001b[1;32m     53\u001b[0m                                         inputs, attrs, num_outputs)\n\u001b[1;32m     54\u001b[0m   \u001b[0;32mexcept\u001b[0m \u001b[0mcore\u001b[0m\u001b[0;34m.\u001b[0m\u001b[0m_NotOkStatusException\u001b[0m \u001b[0;32mas\u001b[0m \u001b[0me\u001b[0m\u001b[0;34m:\u001b[0m\u001b[0;34m\u001b[0m\u001b[0;34m\u001b[0m\u001b[0m\n",
            "\u001b[0;31mKeyboardInterrupt\u001b[0m: "
          ]
        }
      ]
    },
    {
      "cell_type": "code",
      "source": [
        "es = EarlyStopping(patience = 5)\n",
        "\n",
        "model2 = Sequential()\n",
        "model2.add(layers.Input(shape=(256,256,3)))\n",
        "#model1.add(layers.Rescaling(1./255))\n",
        "model2.add(convnet)\n",
        "\n",
        "# Convolutional and pooling layers\n",
        "\n",
        "model2.add(Flatten())\n",
        "# Dense Layers\n",
        "model2.add(Dense(64, activation='relu'))\n",
        "\n",
        "# Output\n",
        "model2.add(Dense(1, activation='sigmoid'))\n",
        "\n",
        "model2.compile(\n",
        "    optimizer=\"adam\",\n",
        "    loss=\"binary_crossentropy\",\n",
        "    metrics=standard_metrics\n",
        ")"
      ],
      "metadata": {
        "id": "yMVnFt95ic_5"
      },
      "execution_count": null,
      "outputs": []
    },
    {
      "cell_type": "code",
      "source": [
        "h2 = model2.fit(train_ds,\n",
        "               validation_data=val_ds,\n",
        "               callbacks = [es],\n",
        "               epochs=20)"
      ],
      "metadata": {
        "colab": {
          "base_uri": "https://localhost:8080/"
        },
        "id": "P0eE3n-qjfVw",
        "outputId": "31cb7762-7cb8-473d-ac3c-78e3183cb19b"
      },
      "execution_count": null,
      "outputs": [
        {
          "output_type": "stream",
          "name": "stdout",
          "text": [
            "Epoch 1/20\n",
            "75/75 [==============================] - 43s 442ms/step - loss: 0.2853 - binary_accuracy: 0.9317 - auc: 0.9723 - precision: 0.9295 - recall: 0.9342 - val_loss: 0.0986 - val_binary_accuracy: 0.9650 - val_auc: 0.9944 - val_precision: 0.9761 - val_recall: 0.9533\n",
            "Epoch 2/20\n",
            "75/75 [==============================] - 32s 420ms/step - loss: 0.0356 - binary_accuracy: 0.9887 - auc: 0.9988 - precision: 0.9875 - recall: 0.9900 - val_loss: 0.0832 - val_binary_accuracy: 0.9717 - val_auc: 0.9942 - val_precision: 0.9639 - val_recall: 0.9800\n",
            "Epoch 3/20\n",
            "75/75 [==============================] - 31s 410ms/step - loss: 0.0034 - binary_accuracy: 0.9992 - auc: 1.0000 - precision: 0.9983 - recall: 1.0000 - val_loss: 0.0785 - val_binary_accuracy: 0.9733 - val_auc: 0.9949 - val_precision: 0.9671 - val_recall: 0.9800\n",
            "Epoch 4/20\n",
            "75/75 [==============================] - 31s 414ms/step - loss: 9.8843e-04 - binary_accuracy: 1.0000 - auc: 1.0000 - precision: 1.0000 - recall: 1.0000 - val_loss: 0.0923 - val_binary_accuracy: 0.9700 - val_auc: 0.9931 - val_precision: 0.9608 - val_recall: 0.9800\n",
            "Epoch 5/20\n",
            "75/75 [==============================] - 31s 409ms/step - loss: 5.9339e-04 - binary_accuracy: 1.0000 - auc: 1.0000 - precision: 1.0000 - recall: 1.0000 - val_loss: 0.0933 - val_binary_accuracy: 0.9700 - val_auc: 0.9931 - val_precision: 0.9608 - val_recall: 0.9800\n",
            "Epoch 6/20\n",
            "75/75 [==============================] - 34s 459ms/step - loss: 5.0528e-04 - binary_accuracy: 1.0000 - auc: 1.0000 - precision: 1.0000 - recall: 1.0000 - val_loss: 0.0927 - val_binary_accuracy: 0.9700 - val_auc: 0.9930 - val_precision: 0.9608 - val_recall: 0.9800\n",
            "Epoch 7/20\n",
            "75/75 [==============================] - 34s 459ms/step - loss: 4.5512e-04 - binary_accuracy: 1.0000 - auc: 1.0000 - precision: 1.0000 - recall: 1.0000 - val_loss: 0.0944 - val_binary_accuracy: 0.9700 - val_auc: 0.9931 - val_precision: 0.9608 - val_recall: 0.9800\n",
            "Epoch 8/20\n",
            "75/75 [==============================] - 30s 402ms/step - loss: 4.2263e-04 - binary_accuracy: 1.0000 - auc: 1.0000 - precision: 1.0000 - recall: 1.0000 - val_loss: 0.0960 - val_binary_accuracy: 0.9700 - val_auc: 0.9932 - val_precision: 0.9608 - val_recall: 0.9800\n"
          ]
        }
      ]
    },
    {
      "cell_type": "code",
      "source": [
        "export = []\n",
        "for i in standard_metrics:\n",
        "  export.append(h2.history[f'{i.lower()}'][-1])\n",
        "  export.append(h2.history[f'val_{i.lower()}'][-1])\n",
        "export"
      ],
      "metadata": {
        "colab": {
          "base_uri": "https://localhost:8080/"
        },
        "id": "vuW7mK7togbW",
        "outputId": "be814483-21c4-4926-bee0-cffe1fbf84fa"
      },
      "execution_count": null,
      "outputs": [
        {
          "output_type": "execute_result",
          "data": {
            "text/plain": [
              "[1.0,\n",
              " 0.9700000286102295,\n",
              " 1.0,\n",
              " 0.9931887984275818,\n",
              " 1.0,\n",
              " 0.9607843160629272,\n",
              " 1.0,\n",
              " 0.9800000190734863]"
            ]
          },
          "metadata": {},
          "execution_count": 229
        }
      ]
    },
    {
      "cell_type": "code",
      "source": [
        "df = pd.DataFrame(data = np.array([export]), columns = ['train_accuracy','val_accuracy','train_AUC','val_AUC','train_Precision','val_Precision', 'train_Recall ','val_Recall'], index= ['convnet'])\n",
        "df"
      ],
      "metadata": {
        "colab": {
          "base_uri": "https://localhost:8080/",
          "height": 145
        },
        "id": "OU5m8KJgpurc",
        "outputId": "634793aa-b9cb-4290-f7e7-80b29891336d"
      },
      "execution_count": null,
      "outputs": [
        {
          "output_type": "execute_result",
          "data": {
            "text/plain": [
              "         train_accuracy  val_accuracy  train_AUC   val_AUC  train_Precision  \\\n",
              "convnet             1.0          0.97        1.0  0.993189              1.0   \n",
              "\n",
              "         val_Precision  train_Recall   val_Recall  \n",
              "convnet       0.960784            1.0        0.98  "
            ],
            "text/html": [
              "\n",
              "  <div id=\"df-5099e7db-bc18-42b8-b2f0-df7f4bd8b522\">\n",
              "    <div class=\"colab-df-container\">\n",
              "      <div>\n",
              "<style scoped>\n",
              "    .dataframe tbody tr th:only-of-type {\n",
              "        vertical-align: middle;\n",
              "    }\n",
              "\n",
              "    .dataframe tbody tr th {\n",
              "        vertical-align: top;\n",
              "    }\n",
              "\n",
              "    .dataframe thead th {\n",
              "        text-align: right;\n",
              "    }\n",
              "</style>\n",
              "<table border=\"1\" class=\"dataframe\">\n",
              "  <thead>\n",
              "    <tr style=\"text-align: right;\">\n",
              "      <th></th>\n",
              "      <th>train_accuracy</th>\n",
              "      <th>val_accuracy</th>\n",
              "      <th>train_AUC</th>\n",
              "      <th>val_AUC</th>\n",
              "      <th>train_Precision</th>\n",
              "      <th>val_Precision</th>\n",
              "      <th>train_Recall</th>\n",
              "      <th>val_Recall</th>\n",
              "    </tr>\n",
              "  </thead>\n",
              "  <tbody>\n",
              "    <tr>\n",
              "      <th>convnet</th>\n",
              "      <td>1.0</td>\n",
              "      <td>0.97</td>\n",
              "      <td>1.0</td>\n",
              "      <td>0.993189</td>\n",
              "      <td>1.0</td>\n",
              "      <td>0.960784</td>\n",
              "      <td>1.0</td>\n",
              "      <td>0.98</td>\n",
              "    </tr>\n",
              "  </tbody>\n",
              "</table>\n",
              "</div>\n",
              "      <button class=\"colab-df-convert\" onclick=\"convertToInteractive('df-5099e7db-bc18-42b8-b2f0-df7f4bd8b522')\"\n",
              "              title=\"Convert this dataframe to an interactive table.\"\n",
              "              style=\"display:none;\">\n",
              "        \n",
              "  <svg xmlns=\"http://www.w3.org/2000/svg\" height=\"24px\"viewBox=\"0 0 24 24\"\n",
              "       width=\"24px\">\n",
              "    <path d=\"M0 0h24v24H0V0z\" fill=\"none\"/>\n",
              "    <path d=\"M18.56 5.44l.94 2.06.94-2.06 2.06-.94-2.06-.94-.94-2.06-.94 2.06-2.06.94zm-11 1L8.5 8.5l.94-2.06 2.06-.94-2.06-.94L8.5 2.5l-.94 2.06-2.06.94zm10 10l.94 2.06.94-2.06 2.06-.94-2.06-.94-.94-2.06-.94 2.06-2.06.94z\"/><path d=\"M17.41 7.96l-1.37-1.37c-.4-.4-.92-.59-1.43-.59-.52 0-1.04.2-1.43.59L10.3 9.45l-7.72 7.72c-.78.78-.78 2.05 0 2.83L4 21.41c.39.39.9.59 1.41.59.51 0 1.02-.2 1.41-.59l7.78-7.78 2.81-2.81c.8-.78.8-2.07 0-2.86zM5.41 20L4 18.59l7.72-7.72 1.47 1.35L5.41 20z\"/>\n",
              "  </svg>\n",
              "      </button>\n",
              "      \n",
              "  <style>\n",
              "    .colab-df-container {\n",
              "      display:flex;\n",
              "      flex-wrap:wrap;\n",
              "      gap: 12px;\n",
              "    }\n",
              "\n",
              "    .colab-df-convert {\n",
              "      background-color: #E8F0FE;\n",
              "      border: none;\n",
              "      border-radius: 50%;\n",
              "      cursor: pointer;\n",
              "      display: none;\n",
              "      fill: #1967D2;\n",
              "      height: 32px;\n",
              "      padding: 0 0 0 0;\n",
              "      width: 32px;\n",
              "    }\n",
              "\n",
              "    .colab-df-convert:hover {\n",
              "      background-color: #E2EBFA;\n",
              "      box-shadow: 0px 1px 2px rgba(60, 64, 67, 0.3), 0px 1px 3px 1px rgba(60, 64, 67, 0.15);\n",
              "      fill: #174EA6;\n",
              "    }\n",
              "\n",
              "    [theme=dark] .colab-df-convert {\n",
              "      background-color: #3B4455;\n",
              "      fill: #D2E3FC;\n",
              "    }\n",
              "\n",
              "    [theme=dark] .colab-df-convert:hover {\n",
              "      background-color: #434B5C;\n",
              "      box-shadow: 0px 1px 3px 1px rgba(0, 0, 0, 0.15);\n",
              "      filter: drop-shadow(0px 1px 2px rgba(0, 0, 0, 0.3));\n",
              "      fill: #FFFFFF;\n",
              "    }\n",
              "  </style>\n",
              "\n",
              "      <script>\n",
              "        const buttonEl =\n",
              "          document.querySelector('#df-5099e7db-bc18-42b8-b2f0-df7f4bd8b522 button.colab-df-convert');\n",
              "        buttonEl.style.display =\n",
              "          google.colab.kernel.accessAllowed ? 'block' : 'none';\n",
              "\n",
              "        async function convertToInteractive(key) {\n",
              "          const element = document.querySelector('#df-5099e7db-bc18-42b8-b2f0-df7f4bd8b522');\n",
              "          const dataTable =\n",
              "            await google.colab.kernel.invokeFunction('convertToInteractive',\n",
              "                                                     [key], {});\n",
              "          if (!dataTable) return;\n",
              "\n",
              "          const docLinkHtml = 'Like what you see? Visit the ' +\n",
              "            '<a target=\"_blank\" href=https://colab.research.google.com/notebooks/data_table.ipynb>data table notebook</a>'\n",
              "            + ' to learn more about interactive tables.';\n",
              "          element.innerHTML = '';\n",
              "          dataTable['output_type'] = 'display_data';\n",
              "          await google.colab.output.renderOutput(dataTable, element);\n",
              "          const docLink = document.createElement('div');\n",
              "          docLink.innerHTML = docLinkHtml;\n",
              "          element.appendChild(docLink);\n",
              "        }\n",
              "      </script>\n",
              "    </div>\n",
              "  </div>\n",
              "  "
            ]
          },
          "metadata": {},
          "execution_count": 256
        }
      ]
    },
    {
      "cell_type": "code",
      "source": [
        "type(h2.history)"
      ],
      "metadata": {
        "colab": {
          "base_uri": "https://localhost:8080/"
        },
        "id": "mAzWIuyYwtTY",
        "outputId": "6e0c1ef1-bb9e-4adc-88d0-3ab9bc87fde7"
      },
      "execution_count": null,
      "outputs": [
        {
          "output_type": "execute_result",
          "data": {
            "text/plain": [
              "dict"
            ]
          },
          "metadata": {},
          "execution_count": 280
        }
      ]
    },
    {
      "cell_type": "code",
      "source": [
        "hist = h2.history\n",
        "hist_df = pd.DataFrame(hist)"
      ],
      "metadata": {
        "colab": {
          "base_uri": "https://localhost:8080/",
          "height": 184
        },
        "id": "tG5E7QOBvpGF",
        "outputId": "bb472cd1-d367-4e3a-bf24-98a685eee4b3"
      },
      "execution_count": null,
      "outputs": [
        {
          "output_type": "error",
          "ename": "TypeError",
          "evalue": "ignored",
          "traceback": [
            "\u001b[0;31m---------------------------------------------------------------------------\u001b[0m",
            "\u001b[0;31mTypeError\u001b[0m                                 Traceback (most recent call last)",
            "\u001b[0;32m<ipython-input-285-47bbf617328e>\u001b[0m in \u001b[0;36m<cell line: 2>\u001b[0;34m()\u001b[0m\n\u001b[1;32m      1\u001b[0m \u001b[0mhist\u001b[0m \u001b[0;34m=\u001b[0m \u001b[0mh2\u001b[0m\u001b[0;34m.\u001b[0m\u001b[0mhistory\u001b[0m\u001b[0;34m\u001b[0m\u001b[0;34m\u001b[0m\u001b[0m\n\u001b[0;32m----> 2\u001b[0;31m \u001b[0mhist_df\u001b[0m \u001b[0;34m=\u001b[0m \u001b[0mpd\u001b[0m\u001b[0;34m.\u001b[0m\u001b[0mDataFrame\u001b[0m\u001b[0;34m(\u001b[0m\u001b[0mhist\u001b[0m\u001b[0;34m)\u001b[0m\u001b[0;34m\u001b[0m\u001b[0;34m\u001b[0m\u001b[0m\n\u001b[0m",
            "\u001b[0;31mTypeError\u001b[0m: 'dict' object is not callable"
          ]
        }
      ]
    },
    {
      "cell_type": "code",
      "source": [
        "h2.history"
      ],
      "metadata": {
        "colab": {
          "base_uri": "https://localhost:8080/"
        },
        "id": "e6sz6LOevy00",
        "outputId": "0932a67c-b970-4b1f-d985-51abbc7768c3"
      },
      "execution_count": null,
      "outputs": [
        {
          "output_type": "execute_result",
          "data": {
            "text/plain": [
              "{'loss': [0.28527015447616577,\n",
              "  0.03563474863767624,\n",
              "  0.0034316040109843016,\n",
              "  0.000988431042060256,\n",
              "  0.0005933935171924531,\n",
              "  0.0005052843480370939,\n",
              "  0.0004551192105282098,\n",
              "  0.000422625191276893],\n",
              " 'binary_accuracy': [0.9316666722297668,\n",
              "  0.9887499809265137,\n",
              "  0.9991666674613953,\n",
              "  1.0,\n",
              "  1.0,\n",
              "  1.0,\n",
              "  1.0,\n",
              "  1.0],\n",
              " 'auc': [0.9723420739173889,\n",
              "  0.9987867474555969,\n",
              "  0.9999985694885254,\n",
              "  0.9999999403953552,\n",
              "  1.0,\n",
              "  1.0,\n",
              "  1.0,\n",
              "  1.0],\n",
              " 'precision': [0.9295190572738647,\n",
              "  0.9875311851501465,\n",
              "  0.9983360767364502,\n",
              "  1.0,\n",
              "  1.0,\n",
              "  1.0,\n",
              "  1.0,\n",
              "  1.0],\n",
              " 'recall': [0.934166669845581,\n",
              "  0.9900000095367432,\n",
              "  1.0,\n",
              "  1.0,\n",
              "  1.0,\n",
              "  1.0,\n",
              "  1.0,\n",
              "  1.0],\n",
              " 'val_loss': [0.09857117384672165,\n",
              "  0.08321982622146606,\n",
              "  0.07853870838880539,\n",
              "  0.09226249158382416,\n",
              "  0.0932978093624115,\n",
              "  0.09267007559537888,\n",
              "  0.09443879127502441,\n",
              "  0.09596003592014313],\n",
              " 'val_binary_accuracy': [0.9649999737739563,\n",
              "  0.971666693687439,\n",
              "  0.9733333587646484,\n",
              "  0.9700000286102295,\n",
              "  0.9700000286102295,\n",
              "  0.9700000286102295,\n",
              "  0.9700000286102295,\n",
              "  0.9700000286102295],\n",
              " 'val_auc': [0.994411051273346,\n",
              "  0.9941944479942322,\n",
              "  0.9948832392692566,\n",
              "  0.99313884973526,\n",
              "  0.9931499361991882,\n",
              "  0.9929555058479309,\n",
              "  0.9930610656738281,\n",
              "  0.9931887984275818],\n",
              " 'val_precision': [0.9761092066764832,\n",
              "  0.9639344215393066,\n",
              "  0.9671052694320679,\n",
              "  0.9607843160629272,\n",
              "  0.9607843160629272,\n",
              "  0.9607843160629272,\n",
              "  0.9607843160629272,\n",
              "  0.9607843160629272],\n",
              " 'val_recall': [0.95333331823349,\n",
              "  0.9800000190734863,\n",
              "  0.9800000190734863,\n",
              "  0.9800000190734863,\n",
              "  0.9800000190734863,\n",
              "  0.9800000190734863,\n",
              "  0.9800000190734863,\n",
              "  0.9800000190734863]}"
            ]
          },
          "metadata": {},
          "execution_count": 273
        }
      ]
    },
    {
      "cell_type": "code",
      "source": [
        "hist_dfa=.to_csv('model_history.csv')"
      ],
      "metadata": {
        "colab": {
          "base_uri": "https://localhost:8080/",
          "height": 166
        },
        "id": "w6t8a60FvBvP",
        "outputId": "7c2c9da5-afd8-4bd0-cdfb-6ae6f33091b9"
      },
      "execution_count": null,
      "outputs": [
        {
          "output_type": "error",
          "ename": "AttributeError",
          "evalue": "ignored",
          "traceback": [
            "\u001b[0;31m---------------------------------------------------------------------------\u001b[0m",
            "\u001b[0;31mAttributeError\u001b[0m                            Traceback (most recent call last)",
            "\u001b[0;32m<ipython-input-266-4ff8503ea279>\u001b[0m in \u001b[0;36m<cell line: 1>\u001b[0;34m()\u001b[0m\n\u001b[0;32m----> 1\u001b[0;31m \u001b[0mh2\u001b[0m\u001b[0;34m.\u001b[0m\u001b[0mhistory\u001b[0m\u001b[0;34m.\u001b[0m\u001b[0mto_csv\u001b[0m\u001b[0;34m(\u001b[0m\u001b[0;34m'model_history.csv'\u001b[0m\u001b[0;34m)\u001b[0m\u001b[0;34m\u001b[0m\u001b[0;34m\u001b[0m\u001b[0m\n\u001b[0m",
            "\u001b[0;31mAttributeError\u001b[0m: 'dict' object has no attribute 'to_csv'"
          ]
        }
      ]
    },
    {
      "cell_type": "code",
      "source": [
        "df.to_csv('model2.csv')"
      ],
      "metadata": {
        "id": "zaITrt9Urg2j"
      },
      "execution_count": null,
      "outputs": []
    },
    {
      "cell_type": "code",
      "source": [
        "model2.save('tiny_conv_model2')"
      ],
      "metadata": {
        "id": "fw3VEK6GcmvN",
        "colab": {
          "base_uri": "https://localhost:8080/"
        },
        "outputId": "da87ffc3-87ea-4ea1-b7e9-7fd092e1ade9"
      },
      "execution_count": null,
      "outputs": [
        {
          "output_type": "stream",
          "name": "stderr",
          "text": [
            "WARNING:absl:Found untraced functions such as _jit_compiled_convolution_op, _jit_compiled_convolution_op, _jit_compiled_convolution_op, _jit_compiled_convolution_op while saving (showing 4 of 4). These functions will not be directly callable after loading.\n"
          ]
        }
      ]
    },
    {
      "cell_type": "code",
      "source": [
        "# serialize effnet_aug to JSON\n",
        "model2_json = model2.to_json()\n",
        "with open(\"model2.json\", \"w\") as json_file:\n",
        "    json_file.write(model2_json)\n",
        "    \n",
        "# serialize weights to HDF5\n",
        "model2.save_weights(\"model2.h5\")"
      ],
      "metadata": {
        "id": "KwgDkiDNzmml"
      },
      "execution_count": null,
      "outputs": []
    },
    {
      "cell_type": "code",
      "source": [
        "!zip -r /content/model2.zip /content/tiny_conv_model2"
      ],
      "metadata": {
        "colab": {
          "base_uri": "https://localhost:8080/"
        },
        "id": "RbBe5V1M0cUz",
        "outputId": "170e2901-1b41-4e75-cb05-790351ec96d6"
      },
      "execution_count": null,
      "outputs": [
        {
          "output_type": "stream",
          "name": "stdout",
          "text": [
            "  adding: content/tiny_conv_model2/ (stored 0%)\n",
            "  adding: content/tiny_conv_model2/variables/ (stored 0%)\n",
            "  adding: content/tiny_conv_model2/variables/variables.data-00000-of-00001 (deflated 7%)\n",
            "  adding: content/tiny_conv_model2/variables/variables.index (deflated 74%)\n",
            "  adding: content/tiny_conv_model2/assets/ (stored 0%)\n",
            "  adding: content/tiny_conv_model2/fingerprint.pb (stored 0%)\n",
            "  adding: content/tiny_conv_model2/saved_model.pb (deflated 93%)\n",
            "  adding: content/tiny_conv_model2/keras_metadata.pb (deflated 95%)\n"
          ]
        }
      ]
    },
    {
      "cell_type": "markdown",
      "source": [
        "---\n",
        "## InceptionV3"
      ],
      "metadata": {
        "id": "hgbOgtJDghpd"
      }
    },
    {
      "cell_type": "code",
      "source": [
        "from tensorflow.keras.models import Model\n",
        "from tensorflow.keras.optimizers import Adam\n",
        "from tensorflow.keras.layers import BatchNormalization\n",
        "from tensorflow.keras.applications.inception_v3 import InceptionV3, preprocess_input"
      ],
      "metadata": {
        "id": "iaazWiyke3wS"
      },
      "execution_count": null,
      "outputs": []
    },
    {
      "cell_type": "code",
      "source": [
        "datagen1 = ImageDataGenerator(validation_split=0.2)"
      ],
      "metadata": {
        "id": "NZLgOIWHUYf9"
      },
      "execution_count": null,
      "outputs": []
    },
    {
      "cell_type": "code",
      "source": [
        "# need to resize for inception, built separate read\n",
        "train_ds_inception = datagen1.flow_from_directory(\n",
        "    '/content/train',\n",
        "    target_size=(299, 299),  # Resize\n",
        "    batch_size=32,\n",
        "    class_mode='binary', \n",
        "    subset='training',  # set as training data\n",
        "    seed=42\n",
        ")\n",
        "\n",
        "val_ds_inception = datagen1.flow_from_directory(\n",
        "    '/content/train',\n",
        "    target_size=(299, 299),  # Resize\n",
        "    batch_size=32,\n",
        "    class_mode='binary',\n",
        "    subset='validation',  # set as validation data\n",
        "    seed=42,\n",
        "    shuffle=False\n",
        ")\n",
        "\n",
        "test_ds_inception = datagen1.flow_from_directory(\n",
        "    '/content/test',\n",
        "    target_size=(299, 299),  # Resize\n",
        "    batch_size=32,\n",
        "    class_mode='binary',  \n",
        "    seed=42,\n",
        "    shuffle=False\n",
        ")"
      ],
      "metadata": {
        "colab": {
          "base_uri": "https://localhost:8080/"
        },
        "id": "9LYHNZblP2fW",
        "outputId": "04d9cccc-d872-40aa-81fa-fb7262c0bc84"
      },
      "execution_count": null,
      "outputs": [
        {
          "output_type": "stream",
          "name": "stdout",
          "text": [
            "Found 2400 images belonging to 2 classes.\n",
            "Found 600 images belonging to 2 classes.\n",
            "Found 644 images belonging to 2 classes.\n"
          ]
        }
      ]
    },
    {
      "cell_type": "code",
      "source": [
        "# Early stopping\n",
        "early_stopping = EarlyStopping(patience=4)\n",
        "\n",
        "# Load InceptionV3 model\n",
        "inception = InceptionV3(include_top=False, weights='imagenet', input_shape=(299, 299, 3))\n",
        "\n",
        "# freeze the layers\n",
        "for layer in inception.layers:\n",
        "    layer.trainable = False\n",
        "\n",
        "# input layer\n",
        "inputs = layers.Input(shape=(299, 299, 3))\n",
        "\n",
        "# pre-process for InceptionV3\n",
        "x = preprocess_input(inputs) \n",
        "\n",
        "x = inception(x, training=False)\n",
        "\n",
        "x = Flatten()(x) \n",
        "\n",
        "x = Dense(64, activation='relu')(x)\n",
        "\n",
        "x = BatchNormalization()(x)\n",
        "\n",
        "x = Dropout(0.2)(x)\n",
        "\n",
        "outputs = Dense(1, activation = 'sigmoid')(x)\n",
        "\n",
        "# Assemble the model\n",
        "model_inception = Model(inputs=inputs, outputs=outputs)\n",
        "\n",
        "# Compile the model\n",
        "model_inception.compile(loss='binary_crossentropy', optimizer=Adam(learning_rate=0.001), metrics=standard_metrics)\n",
        "\n",
        "# Fit the model to the data\n",
        "res_cnn_inception = model_inception.fit(train_ds_inception,\n",
        "                    epochs=20,\n",
        "                    batch_size=16,\n",
        "                    validation_data=val_ds_inception,\n",
        "                    verbose=1,\n",
        "                    callbacks=[early_stopping])"
      ],
      "metadata": {
        "id": "jagppwmbep6K",
        "outputId": "a5864672-8a7e-4530-ed3e-c0ac72a49acf",
        "colab": {
          "base_uri": "https://localhost:8080/"
        }
      },
      "execution_count": null,
      "outputs": [
        {
          "output_type": "stream",
          "name": "stdout",
          "text": [
            "Epoch 1/20\n",
            "75/75 [==============================] - 34s 352ms/step - loss: 0.2222 - binary_accuracy: 0.9171 - auc: 0.9689 - precision: 0.9066 - recall: 0.9300 - val_loss: 0.0362 - val_binary_accuracy: 0.9900 - val_auc: 0.9997 - val_precision: 0.9836 - val_recall: 0.9967\n",
            "Epoch 2/20\n",
            "75/75 [==============================] - 20s 261ms/step - loss: 0.1152 - binary_accuracy: 0.9633 - auc: 0.9916 - precision: 0.9626 - recall: 0.9642 - val_loss: 0.0459 - val_binary_accuracy: 0.9933 - val_auc: 0.9992 - val_precision: 0.9868 - val_recall: 1.0000\n",
            "Epoch 3/20\n",
            "75/75 [==============================] - 16s 211ms/step - loss: 0.0459 - binary_accuracy: 0.9892 - auc: 0.9993 - precision: 0.9916 - recall: 0.9867 - val_loss: 0.0608 - val_binary_accuracy: 0.9800 - val_auc: 0.9970 - val_precision: 0.9615 - val_recall: 1.0000\n",
            "Epoch 4/20\n",
            "75/75 [==============================] - 16s 208ms/step - loss: 0.0223 - binary_accuracy: 0.9967 - auc: 0.9999 - precision: 0.9992 - recall: 0.9942 - val_loss: 0.0695 - val_binary_accuracy: 0.9800 - val_auc: 0.9972 - val_precision: 0.9615 - val_recall: 1.0000\n",
            "Epoch 5/20\n",
            "75/75 [==============================] - 17s 225ms/step - loss: 0.0139 - binary_accuracy: 0.9975 - auc: 1.0000 - precision: 0.9983 - recall: 0.9967 - val_loss: 0.0640 - val_binary_accuracy: 0.9783 - val_auc: 0.9976 - val_precision: 0.9585 - val_recall: 1.0000\n"
          ]
        }
      ]
    },
    {
      "cell_type": "code",
      "source": [
        "export2 = []\n",
        "for i in standard_metrics:\n",
        "  export2.append(res_cnn_inception.history[f'{i.lower()}'][-1])\n",
        "  export2.append(res_cnn_inception.history[f'val_{i.lower()}'][-1])\n",
        "export2"
      ],
      "metadata": {
        "id": "nTefGNhyiA1X",
        "colab": {
          "base_uri": "https://localhost:8080/"
        },
        "outputId": "bd7c055d-30cb-4495-a6ae-6a6238b727de"
      },
      "execution_count": null,
      "outputs": [
        {
          "output_type": "execute_result",
          "data": {
            "text/plain": [
              "[0.9975000023841858,\n",
              " 0.9783333539962769,\n",
              " 0.9999784827232361,\n",
              " 0.9976389408111572,\n",
              " 0.9983305335044861,\n",
              " 0.9584664702415466,\n",
              " 0.996666669845581,\n",
              " 1.0]"
            ]
          },
          "metadata": {},
          "execution_count": 248
        }
      ]
    },
    {
      "cell_type": "code",
      "source": [
        "df2 = pd.DataFrame(data = np.array([export2]), columns = ['train_accuracy','val_accuracy','train_AUC','val_AUC','train_Precision','val_Precision', 'train_Recall ','val_Recall'], index= ['cnn'])\n",
        "df2.head(1)"
      ],
      "metadata": {
        "colab": {
          "base_uri": "https://localhost:8080/",
          "height": 145
        },
        "id": "tdmXNYtcsS71",
        "outputId": "3d1a280d-1c9d-4a66-8f9b-a471ec8e17c5"
      },
      "execution_count": null,
      "outputs": [
        {
          "output_type": "execute_result",
          "data": {
            "text/plain": [
              "     train_accuracy  val_accuracy  train_AUC   val_AUC  train_Precision  \\\n",
              "cnn          0.9975      0.978333   0.999978  0.997639         0.998331   \n",
              "\n",
              "     val_Precision  train_Recall   val_Recall  \n",
              "cnn       0.958466       0.996667         1.0  "
            ],
            "text/html": [
              "\n",
              "  <div id=\"df-1271dc39-10d9-4b38-bdc9-fc60db471b79\">\n",
              "    <div class=\"colab-df-container\">\n",
              "      <div>\n",
              "<style scoped>\n",
              "    .dataframe tbody tr th:only-of-type {\n",
              "        vertical-align: middle;\n",
              "    }\n",
              "\n",
              "    .dataframe tbody tr th {\n",
              "        vertical-align: top;\n",
              "    }\n",
              "\n",
              "    .dataframe thead th {\n",
              "        text-align: right;\n",
              "    }\n",
              "</style>\n",
              "<table border=\"1\" class=\"dataframe\">\n",
              "  <thead>\n",
              "    <tr style=\"text-align: right;\">\n",
              "      <th></th>\n",
              "      <th>train_accuracy</th>\n",
              "      <th>val_accuracy</th>\n",
              "      <th>train_AUC</th>\n",
              "      <th>val_AUC</th>\n",
              "      <th>train_Precision</th>\n",
              "      <th>val_Precision</th>\n",
              "      <th>train_Recall</th>\n",
              "      <th>val_Recall</th>\n",
              "    </tr>\n",
              "  </thead>\n",
              "  <tbody>\n",
              "    <tr>\n",
              "      <th>cnn</th>\n",
              "      <td>0.9975</td>\n",
              "      <td>0.978333</td>\n",
              "      <td>0.999978</td>\n",
              "      <td>0.997639</td>\n",
              "      <td>0.998331</td>\n",
              "      <td>0.958466</td>\n",
              "      <td>0.996667</td>\n",
              "      <td>1.0</td>\n",
              "    </tr>\n",
              "  </tbody>\n",
              "</table>\n",
              "</div>\n",
              "      <button class=\"colab-df-convert\" onclick=\"convertToInteractive('df-1271dc39-10d9-4b38-bdc9-fc60db471b79')\"\n",
              "              title=\"Convert this dataframe to an interactive table.\"\n",
              "              style=\"display:none;\">\n",
              "        \n",
              "  <svg xmlns=\"http://www.w3.org/2000/svg\" height=\"24px\"viewBox=\"0 0 24 24\"\n",
              "       width=\"24px\">\n",
              "    <path d=\"M0 0h24v24H0V0z\" fill=\"none\"/>\n",
              "    <path d=\"M18.56 5.44l.94 2.06.94-2.06 2.06-.94-2.06-.94-.94-2.06-.94 2.06-2.06.94zm-11 1L8.5 8.5l.94-2.06 2.06-.94-2.06-.94L8.5 2.5l-.94 2.06-2.06.94zm10 10l.94 2.06.94-2.06 2.06-.94-2.06-.94-.94-2.06-.94 2.06-2.06.94z\"/><path d=\"M17.41 7.96l-1.37-1.37c-.4-.4-.92-.59-1.43-.59-.52 0-1.04.2-1.43.59L10.3 9.45l-7.72 7.72c-.78.78-.78 2.05 0 2.83L4 21.41c.39.39.9.59 1.41.59.51 0 1.02-.2 1.41-.59l7.78-7.78 2.81-2.81c.8-.78.8-2.07 0-2.86zM5.41 20L4 18.59l7.72-7.72 1.47 1.35L5.41 20z\"/>\n",
              "  </svg>\n",
              "      </button>\n",
              "      \n",
              "  <style>\n",
              "    .colab-df-container {\n",
              "      display:flex;\n",
              "      flex-wrap:wrap;\n",
              "      gap: 12px;\n",
              "    }\n",
              "\n",
              "    .colab-df-convert {\n",
              "      background-color: #E8F0FE;\n",
              "      border: none;\n",
              "      border-radius: 50%;\n",
              "      cursor: pointer;\n",
              "      display: none;\n",
              "      fill: #1967D2;\n",
              "      height: 32px;\n",
              "      padding: 0 0 0 0;\n",
              "      width: 32px;\n",
              "    }\n",
              "\n",
              "    .colab-df-convert:hover {\n",
              "      background-color: #E2EBFA;\n",
              "      box-shadow: 0px 1px 2px rgba(60, 64, 67, 0.3), 0px 1px 3px 1px rgba(60, 64, 67, 0.15);\n",
              "      fill: #174EA6;\n",
              "    }\n",
              "\n",
              "    [theme=dark] .colab-df-convert {\n",
              "      background-color: #3B4455;\n",
              "      fill: #D2E3FC;\n",
              "    }\n",
              "\n",
              "    [theme=dark] .colab-df-convert:hover {\n",
              "      background-color: #434B5C;\n",
              "      box-shadow: 0px 1px 3px 1px rgba(0, 0, 0, 0.15);\n",
              "      filter: drop-shadow(0px 1px 2px rgba(0, 0, 0, 0.3));\n",
              "      fill: #FFFFFF;\n",
              "    }\n",
              "  </style>\n",
              "\n",
              "      <script>\n",
              "        const buttonEl =\n",
              "          document.querySelector('#df-1271dc39-10d9-4b38-bdc9-fc60db471b79 button.colab-df-convert');\n",
              "        buttonEl.style.display =\n",
              "          google.colab.kernel.accessAllowed ? 'block' : 'none';\n",
              "\n",
              "        async function convertToInteractive(key) {\n",
              "          const element = document.querySelector('#df-1271dc39-10d9-4b38-bdc9-fc60db471b79');\n",
              "          const dataTable =\n",
              "            await google.colab.kernel.invokeFunction('convertToInteractive',\n",
              "                                                     [key], {});\n",
              "          if (!dataTable) return;\n",
              "\n",
              "          const docLinkHtml = 'Like what you see? Visit the ' +\n",
              "            '<a target=\"_blank\" href=https://colab.research.google.com/notebooks/data_table.ipynb>data table notebook</a>'\n",
              "            + ' to learn more about interactive tables.';\n",
              "          element.innerHTML = '';\n",
              "          dataTable['output_type'] = 'display_data';\n",
              "          await google.colab.output.renderOutput(dataTable, element);\n",
              "          const docLink = document.createElement('div');\n",
              "          docLink.innerHTML = docLinkHtml;\n",
              "          element.appendChild(docLink);\n",
              "        }\n",
              "      </script>\n",
              "    </div>\n",
              "  </div>\n",
              "  "
            ]
          },
          "metadata": {},
          "execution_count": 254
        }
      ]
    },
    {
      "cell_type": "code",
      "source": [
        "df.head(1)"
      ],
      "metadata": {
        "colab": {
          "base_uri": "https://localhost:8080/",
          "height": 145
        },
        "id": "ikq9J3DYtRxj",
        "outputId": "d33e5d43-19dc-47c2-c76d-bd2cf5f40bac"
      },
      "execution_count": null,
      "outputs": [
        {
          "output_type": "execute_result",
          "data": {
            "text/plain": [
              "         train_accuracy  val_accuracy  train_AUC   val_AUC  train_Precision  \\\n",
              "convnet             1.0          0.97        1.0  0.993189              1.0   \n",
              "\n",
              "         val_Precision  train_Recall   val_Recall  \n",
              "convnet       0.960784            1.0        0.98  "
            ],
            "text/html": [
              "\n",
              "  <div id=\"df-2423eca8-1187-42c8-8e8d-7eb777570aef\">\n",
              "    <div class=\"colab-df-container\">\n",
              "      <div>\n",
              "<style scoped>\n",
              "    .dataframe tbody tr th:only-of-type {\n",
              "        vertical-align: middle;\n",
              "    }\n",
              "\n",
              "    .dataframe tbody tr th {\n",
              "        vertical-align: top;\n",
              "    }\n",
              "\n",
              "    .dataframe thead th {\n",
              "        text-align: right;\n",
              "    }\n",
              "</style>\n",
              "<table border=\"1\" class=\"dataframe\">\n",
              "  <thead>\n",
              "    <tr style=\"text-align: right;\">\n",
              "      <th></th>\n",
              "      <th>train_accuracy</th>\n",
              "      <th>val_accuracy</th>\n",
              "      <th>train_AUC</th>\n",
              "      <th>val_AUC</th>\n",
              "      <th>train_Precision</th>\n",
              "      <th>val_Precision</th>\n",
              "      <th>train_Recall</th>\n",
              "      <th>val_Recall</th>\n",
              "    </tr>\n",
              "  </thead>\n",
              "  <tbody>\n",
              "    <tr>\n",
              "      <th>convnet</th>\n",
              "      <td>1.0</td>\n",
              "      <td>0.97</td>\n",
              "      <td>1.0</td>\n",
              "      <td>0.993189</td>\n",
              "      <td>1.0</td>\n",
              "      <td>0.960784</td>\n",
              "      <td>1.0</td>\n",
              "      <td>0.98</td>\n",
              "    </tr>\n",
              "  </tbody>\n",
              "</table>\n",
              "</div>\n",
              "      <button class=\"colab-df-convert\" onclick=\"convertToInteractive('df-2423eca8-1187-42c8-8e8d-7eb777570aef')\"\n",
              "              title=\"Convert this dataframe to an interactive table.\"\n",
              "              style=\"display:none;\">\n",
              "        \n",
              "  <svg xmlns=\"http://www.w3.org/2000/svg\" height=\"24px\"viewBox=\"0 0 24 24\"\n",
              "       width=\"24px\">\n",
              "    <path d=\"M0 0h24v24H0V0z\" fill=\"none\"/>\n",
              "    <path d=\"M18.56 5.44l.94 2.06.94-2.06 2.06-.94-2.06-.94-.94-2.06-.94 2.06-2.06.94zm-11 1L8.5 8.5l.94-2.06 2.06-.94-2.06-.94L8.5 2.5l-.94 2.06-2.06.94zm10 10l.94 2.06.94-2.06 2.06-.94-2.06-.94-.94-2.06-.94 2.06-2.06.94z\"/><path d=\"M17.41 7.96l-1.37-1.37c-.4-.4-.92-.59-1.43-.59-.52 0-1.04.2-1.43.59L10.3 9.45l-7.72 7.72c-.78.78-.78 2.05 0 2.83L4 21.41c.39.39.9.59 1.41.59.51 0 1.02-.2 1.41-.59l7.78-7.78 2.81-2.81c.8-.78.8-2.07 0-2.86zM5.41 20L4 18.59l7.72-7.72 1.47 1.35L5.41 20z\"/>\n",
              "  </svg>\n",
              "      </button>\n",
              "      \n",
              "  <style>\n",
              "    .colab-df-container {\n",
              "      display:flex;\n",
              "      flex-wrap:wrap;\n",
              "      gap: 12px;\n",
              "    }\n",
              "\n",
              "    .colab-df-convert {\n",
              "      background-color: #E8F0FE;\n",
              "      border: none;\n",
              "      border-radius: 50%;\n",
              "      cursor: pointer;\n",
              "      display: none;\n",
              "      fill: #1967D2;\n",
              "      height: 32px;\n",
              "      padding: 0 0 0 0;\n",
              "      width: 32px;\n",
              "    }\n",
              "\n",
              "    .colab-df-convert:hover {\n",
              "      background-color: #E2EBFA;\n",
              "      box-shadow: 0px 1px 2px rgba(60, 64, 67, 0.3), 0px 1px 3px 1px rgba(60, 64, 67, 0.15);\n",
              "      fill: #174EA6;\n",
              "    }\n",
              "\n",
              "    [theme=dark] .colab-df-convert {\n",
              "      background-color: #3B4455;\n",
              "      fill: #D2E3FC;\n",
              "    }\n",
              "\n",
              "    [theme=dark] .colab-df-convert:hover {\n",
              "      background-color: #434B5C;\n",
              "      box-shadow: 0px 1px 3px 1px rgba(0, 0, 0, 0.15);\n",
              "      filter: drop-shadow(0px 1px 2px rgba(0, 0, 0, 0.3));\n",
              "      fill: #FFFFFF;\n",
              "    }\n",
              "  </style>\n",
              "\n",
              "      <script>\n",
              "        const buttonEl =\n",
              "          document.querySelector('#df-2423eca8-1187-42c8-8e8d-7eb777570aef button.colab-df-convert');\n",
              "        buttonEl.style.display =\n",
              "          google.colab.kernel.accessAllowed ? 'block' : 'none';\n",
              "\n",
              "        async function convertToInteractive(key) {\n",
              "          const element = document.querySelector('#df-2423eca8-1187-42c8-8e8d-7eb777570aef');\n",
              "          const dataTable =\n",
              "            await google.colab.kernel.invokeFunction('convertToInteractive',\n",
              "                                                     [key], {});\n",
              "          if (!dataTable) return;\n",
              "\n",
              "          const docLinkHtml = 'Like what you see? Visit the ' +\n",
              "            '<a target=\"_blank\" href=https://colab.research.google.com/notebooks/data_table.ipynb>data table notebook</a>'\n",
              "            + ' to learn more about interactive tables.';\n",
              "          element.innerHTML = '';\n",
              "          dataTable['output_type'] = 'display_data';\n",
              "          await google.colab.output.renderOutput(dataTable, element);\n",
              "          const docLink = document.createElement('div');\n",
              "          docLink.innerHTML = docLinkHtml;\n",
              "          element.appendChild(docLink);\n",
              "        }\n",
              "      </script>\n",
              "    </div>\n",
              "  </div>\n",
              "  "
            ]
          },
          "metadata": {},
          "execution_count": 259
        }
      ]
    },
    {
      "cell_type": "code",
      "source": [
        "df2.to_csv('model_cnn.csv')"
      ],
      "metadata": {
        "id": "yoxhoMIhsOYW"
      },
      "execution_count": null,
      "outputs": []
    }
  ]
}